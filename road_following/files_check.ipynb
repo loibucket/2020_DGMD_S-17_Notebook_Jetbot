{
 "cells": [
  {
   "cell_type": "code",
   "execution_count": 8,
   "metadata": {},
   "outputs": [
    {
     "name": "stdout",
     "output_type": "stream",
     "text": [
      "./best_steering_model_xy.pth\n"
     ]
    }
   ],
   "source": [
    "!find . -type f -size +10M"
   ]
  },
  {
   "cell_type": "code",
   "execution_count": 7,
   "metadata": {},
   "outputs": [
    {
     "name": "stdout",
     "output_type": "stream",
     "text": [
      ".:\n",
      "total 44M\n",
      "-rw-r--r-- 1 jetbot jetbot  43M Jul 20 18:02 best_steering_model_xy.pth\n",
      "-rw-r--r-- 1 jetbot jetbot 549K Jul 20 17:58 road_following_dataset_xy_2020-07-20_17-58-24.zip\n",
      "-rw-r--r-- 1 jetbot jetbot  15K Jul 20 18:00 data_collection.ipynb\n",
      "-rw-r--r-- 1 jetbot jetbot  15K Jul 20 18:28 live_demo.ipynb\n",
      "-rw-r--r-- 1 jetbot jetbot  12K Jul 20 18:04 train_model.ipynb\n",
      "-rw-r--r-- 1 jetbot jetbot 9.2K Jul 20 19:13 files_check.ipynb\n",
      "drwxr-xr-x 2 jetbot jetbot 4.0K Jul 20 17:51 dataset_xy\n",
      "\n",
      "./dataset_xy:\n",
      "total 584K\n",
      "-rw-r--r-- 1 jetbot jetbot 29K Jul 20 17:46 xy_050_050_a92ba150-caeb-11ea-b973-16f63a1aa8c9.jpg\n",
      "-rw-r--r-- 1 jetbot jetbot 29K Jul 20 17:49 xy_064_050_0eae9d5c-caec-11ea-b973-16f63a1aa8c9.jpg\n",
      "-rw-r--r-- 1 jetbot jetbot 29K Jul 20 17:47 xy_050_050_baf0c3ca-caeb-11ea-b973-16f63a1aa8c9.jpg\n",
      "-rw-r--r-- 1 jetbot jetbot 29K Jul 20 17:46 xy_050_050_a2f8edb0-caeb-11ea-b973-16f63a1aa8c9.jpg\n",
      "-rw-r--r-- 1 jetbot jetbot 29K Jul 20 17:47 xy_050_050_c61cd1e4-caeb-11ea-b973-16f63a1aa8c9.jpg\n",
      "-rw-r--r-- 1 jetbot jetbot 29K Jul 20 17:49 xy_050_050_14467c94-caec-11ea-b973-16f63a1aa8c9.jpg\n",
      "-rw-r--r-- 1 jetbot jetbot 28K Jul 20 17:51 xy_000_050_47523484-caec-11ea-b973-16f63a1aa8c9.jpg\n",
      "-rw-r--r-- 1 jetbot jetbot 28K Jul 20 17:46 xy_050_050_8ed0deb0-caeb-11ea-b973-16f63a1aa8c9.jpg\n",
      "-rw-r--r-- 1 jetbot jetbot 28K Jul 20 17:48 xy_000_050_ddb0cdc4-caeb-11ea-b973-16f63a1aa8c9.jpg\n",
      "-rw-r--r-- 1 jetbot jetbot 28K Jul 20 17:48 xy_000_050_e4579f0e-caeb-11ea-b973-16f63a1aa8c9.jpg\n",
      "-rw-r--r-- 1 jetbot jetbot 28K Jul 20 17:48 xy_050_050_f2cd4bec-caeb-11ea-b973-16f63a1aa8c9.jpg\n",
      "-rw-r--r-- 1 jetbot jetbot 28K Jul 20 17:51 xy_050_050_50ddfc18-caec-11ea-b973-16f63a1aa8c9.jpg\n",
      "-rw-r--r-- 1 jetbot jetbot 27K Jul 20 17:48 xy_011_050_ecca3a5c-caeb-11ea-b973-16f63a1aa8c9.jpg\n",
      "-rw-r--r-- 1 jetbot jetbot 27K Jul 20 17:50 xy_050_050_298dc5e4-caec-11ea-b973-16f63a1aa8c9.jpg\n",
      "-rw-r--r-- 1 jetbot jetbot 27K Jul 20 17:50 xy_046_050_31cfc748-caec-11ea-b973-16f63a1aa8c9.jpg\n",
      "-rw-r--r-- 1 jetbot jetbot 27K Jul 20 17:49 xy_099_050_febe7ac0-caeb-11ea-b973-16f63a1aa8c9.jpg\n",
      "-rw-r--r-- 1 jetbot jetbot 27K Jul 20 17:51 xy_000_050_40ad9236-caec-11ea-b973-16f63a1aa8c9.jpg\n",
      "-rw-r--r-- 1 jetbot jetbot 27K Jul 20 17:50 xy_000_050_383a784e-caec-11ea-b973-16f63a1aa8c9.jpg\n",
      "-rw-r--r-- 1 jetbot jetbot 27K Jul 20 17:51 xy_050_050_56a7bc2e-caec-11ea-b973-16f63a1aa8c9.jpg\n",
      "-rw-r--r-- 1 jetbot jetbot 26K Jul 20 17:45 xy_050_050_802a916c-caeb-11ea-b973-16f63a1aa8c9.jpg\n"
     ]
    }
   ],
   "source": [
    "#!ls -lR --block-size=MB\n",
    "!ls -lhRS"
   ]
  },
  {
   "cell_type": "code",
   "execution_count": null,
   "metadata": {},
   "outputs": [],
   "source": []
  },
  {
   "cell_type": "code",
   "execution_count": null,
   "metadata": {},
   "outputs": [],
   "source": []
  }
 ],
 "metadata": {
  "kernelspec": {
   "display_name": "Python 3",
   "language": "python",
   "name": "python3"
  },
  "language_info": {
   "codemirror_mode": {
    "name": "ipython",
    "version": 3
   },
   "file_extension": ".py",
   "mimetype": "text/x-python",
   "name": "python",
   "nbconvert_exporter": "python",
   "pygments_lexer": "ipython3",
   "version": "3.6.9"
  }
 },
 "nbformat": 4,
 "nbformat_minor": 4
}
