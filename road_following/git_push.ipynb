{
 "cells": [
  {
   "cell_type": "code",
   "execution_count": 1,
   "metadata": {},
   "outputs": [
    {
     "name": "stdout",
     "output_type": "stream",
     "text": [
      "On branch master\n",
      "Changes not staged for commit:\n",
      "  (use \"git add <file>...\" to update what will be committed)\n",
      "  (use \"git checkout -- <file>...\" to discard changes in working directory)\n",
      "\n",
      "\t\u001b[31mmodified:   ../.gitignore\u001b[m\n",
      "\t\u001b[31mmodified:   ../files_check.ipynb\u001b[m\n",
      "\t\u001b[31mmodified:   data_collection.ipynb\u001b[m\n",
      "\t\u001b[31mmodified:   live_demo.ipynb\u001b[m\n",
      "\t\u001b[31mmodified:   train_model.ipynb\u001b[m\n",
      "\n",
      "Untracked files:\n",
      "  (use \"git add <file>...\" to include in what will be committed)\n",
      "\n",
      "\t\u001b[31mfiles_check.ipynb\u001b[m\n",
      "\t\u001b[31mgit_push.ipynb\u001b[m\n",
      "\t\u001b[31mroad_following_dataset_xy_2020-07-20_17-58-24.zip\u001b[m\n",
      "\n",
      "no changes added to commit (use \"git add\" and/or \"git commit -a\")\n"
     ]
    }
   ],
   "source": [
    "!git status"
   ]
  },
  {
   "cell_type": "code",
   "execution_count": 2,
   "metadata": {},
   "outputs": [],
   "source": [
    "!git add ."
   ]
  },
  {
   "cell_type": "code",
   "execution_count": 3,
   "metadata": {},
   "outputs": [
    {
     "name": "stdout",
     "output_type": "stream",
     "text": [
      "[master e38ac92] road following train\n",
      " 6 files changed, 341 insertions(+), 50 deletions(-)\n",
      " create mode 100644 road_following/files_check.ipynb\n",
      " create mode 100644 road_following/git_push.ipynb\n",
      " create mode 100644 road_following/road_following_dataset_xy_2020-07-20_17-58-24.zip\n"
     ]
    }
   ],
   "source": [
    "!git commit -m \"road following train\""
   ]
  },
  {
   "cell_type": "code",
   "execution_count": null,
   "metadata": {},
   "outputs": [],
   "source": [
    "!git push origin master"
   ]
  }
 ],
 "metadata": {
  "kernelspec": {
   "display_name": "Python 3",
   "language": "python",
   "name": "python3"
  },
  "language_info": {
   "codemirror_mode": {
    "name": "ipython",
    "version": 3
   },
   "file_extension": ".py",
   "mimetype": "text/x-python",
   "name": "python",
   "nbconvert_exporter": "python",
   "pygments_lexer": "ipython3",
   "version": "3.6.9"
  }
 },
 "nbformat": 4,
 "nbformat_minor": 4
}
