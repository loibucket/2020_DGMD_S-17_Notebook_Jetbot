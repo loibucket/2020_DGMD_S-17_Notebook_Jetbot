{
 "cells": [
  {
   "cell_type": "code",
   "execution_count": 3,
   "metadata": {},
   "outputs": [],
   "source": [
    "import cv2"
   ]
  },
  {
   "cell_type": "code",
   "execution_count": 15,
   "metadata": {},
   "outputs": [
    {
     "data": {
      "text/plain": [
       "True"
      ]
     },
     "execution_count": 15,
     "metadata": {},
     "output_type": "execute_result"
    }
   ],
   "source": [
    "#Next we read the image containing one face. After reading it, we convert it to grayscale, then show it in a new window:I\n",
    "img1 = cv2.imread(\"single_face.jpg\")\n",
    "gray_img = cv2.cvtColor(img1, cv2.COLOR_BGR2GRAY)\n",
    "#cv2.imshow(\"Original_grayscale_image\",gray_img)\n",
    "cv2.imwrite(\"Original_grayscale_image.jpg\",gray_img)"
   ]
  },
  {
   "cell_type": "code",
   "execution_count": 16,
   "metadata": {},
   "outputs": [],
   "source": [
    "#In our case, we’ll use haarcascade_frontalface_alt.xml:\n",
    "haar_face_cascade = cv2.CascadeClassifier('/Users/loi/opt/anaconda3/envs/cv-basics/share/OpenCV/haarcascades/haarcascade_frontalface_alt.xml')\n",
    "faces = haar_face_cascade.detectMultiScale(gray_img, scaleFactor=1.1, minNeighbors=5)\n",
    "for (x, y, w, h) in faces:\n",
    "    cv2.rectangle(img1, (x, y), (x+w, y+h), (0, 255, 0), 2)\n",
    "#/Users/loi/opt/anaconda3/envs/cv-basics/share/OpenCV/haarcascades"
   ]
  },
  {
   "cell_type": "code",
   "execution_count": 17,
   "metadata": {},
   "outputs": [
    {
     "data": {
      "text/plain": [
       "True"
      ]
     },
     "execution_count": 17,
     "metadata": {},
     "output_type": "execute_result"
    }
   ],
   "source": [
    "#cv2.imshow(\"Final_detected_image\",)\n",
    "#cv2.imshow(\"Final_detected_image\",img1)\n",
    "cv2.imwrite(\"Final_detected_image.jpg\",img1)\n",
    "#cv2.waitKey(0)"
   ]
  },
  {
   "cell_type": "code",
   "execution_count": null,
   "metadata": {},
   "outputs": [],
   "source": []
  },
  {
   "cell_type": "code",
   "execution_count": null,
   "metadata": {},
   "outputs": [],
   "source": []
  },
  {
   "cell_type": "code",
   "execution_count": null,
   "metadata": {},
   "outputs": [],
   "source": []
  },
  {
   "cell_type": "code",
   "execution_count": null,
   "metadata": {},
   "outputs": [],
   "source": []
  }
 ],
 "metadata": {
  "kernelspec": {
   "display_name": "Python 3",
   "language": "python",
   "name": "python3"
  }
 },
 "nbformat": 4,
 "nbformat_minor": 4
}
