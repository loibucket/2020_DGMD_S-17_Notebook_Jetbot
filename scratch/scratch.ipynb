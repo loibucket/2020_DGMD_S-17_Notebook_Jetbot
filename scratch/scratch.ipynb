{
 "cells": [
  {
   "cell_type": "code",
   "execution_count": 1,
   "metadata": {},
   "outputs": [
    {
     "name": "stdout",
     "output_type": "stream",
     "text": [
      "./nomachine_6.11.2_1_arm64.deb\n"
     ]
    }
   ],
   "source": [
    "!find . -type f -size +1M"
   ]
  },
  {
   "cell_type": "code",
   "execution_count": 2,
   "metadata": {},
   "outputs": [
    {
     "name": "stdout",
     "output_type": "stream",
     "text": [
      ".:\n",
      "total 44MB\n",
      "-rw-r--r-- 1 jetbot jetbot  1MB Aug 12 17:15 automagic-fan\n",
      "-rw-r--r-- 1 jetbot jetbot  1MB Jul 22 17:59 docker-compose.yml\n",
      "-rw-r--r-- 1 jetbot jetbot 44MB Jul 22 17:59 nomachine_6.11.2_1_arm64.deb\n",
      "-rw-r--r-- 1 jetbot jetbot  1MB Jul 22 17:59 sbc-bench.sh\n",
      "-rw-r--r-- 1 jetbot jetbot  1MB Jul 26 01:26 scratch.ipynb\n",
      "-rw-r--r-- 1 jetbot jetbot  1MB Aug 14 19:15 scratch.md\n"
     ]
    }
   ],
   "source": [
    "!ls -lR --block-size=MB"
   ]
  },
  {
   "cell_type": "code",
   "execution_count": null,
   "metadata": {},
   "outputs": [],
   "source": []
  }
 ],
 "metadata": {
  "kernelspec": {
   "display_name": "Python 3",
   "language": "python",
   "name": "python3"
  },
  "language_info": {
   "codemirror_mode": {
    "name": "ipython",
    "version": 3
   },
   "file_extension": ".py",
   "mimetype": "text/x-python",
   "name": "python",
   "nbconvert_exporter": "python",
   "pygments_lexer": "ipython3",
   "version": "3.6.9"
  }
 },
 "nbformat": 4,
 "nbformat_minor": 4
}
