{
 "cells": [
  {
   "cell_type": "code",
   "execution_count": 72,
   "metadata": {},
   "outputs": [
    {
     "name": "stdout",
     "output_type": "stream",
     "text": [
      "./face_recog/Ex3_face-recog.mov\n",
      "./face_recog/Ex4_ball-tracking.mov\n",
      "./face_recog/Ex5_line-detection.mov\n"
     ]
    }
   ],
   "source": [
    "!find . -type f -size +50M"
   ]
  },
  {
   "cell_type": "code",
   "execution_count": 74,
   "metadata": {},
   "outputs": [
    {
     "name": "stdout",
     "output_type": "stream",
     "text": [
      "ls: illegal option -- -\n",
      "usage: ls [-@ABCFGHLOPRSTUWabcdefghiklmnopqrstuwx1%] [file ...]\n"
     ]
    }
   ],
   "source": [
    "!ls -lR --block-size=MB"
   ]
  },
  {
   "cell_type": "code",
   "execution_count": 75,
   "metadata": {},
   "outputs": [
    {
     "name": "stdout",
     "output_type": "stream",
     "text": [
      "total 528\n",
      "-rw-r--r--   1 loi  staff   246K Jul 19 22:49 packages_check.ipynb\n",
      "-rw-r--r--@  1 loi  staff   9.7K Jul 19 23:24 files_check.ipynb\n",
      "drwxr-xr-x  12 loi  staff   384B Jul 14 13:29 \u001b[1m\u001b[36mSIFT_demo\u001b[m\u001b[m\n",
      "drwxr-xr-x  12 loi  staff   384B Jul 19 22:44 \u001b[1m\u001b[36mface_recog\u001b[m\u001b[m\n",
      "drwxr-xr-x  12 loi  staff   384B Jul 19 22:55 \u001b[1m\u001b[36mscratch\u001b[m\u001b[m\n",
      "drwxr-xr-x  10 loi  staff   320B Jul 14 20:47 \u001b[1m\u001b[36mpalm_lines\u001b[m\u001b[m\n",
      "drwxr-xr-x   9 loi  staff   288B Jul 13 22:23 \u001b[1m\u001b[36mimages_manipulation\u001b[m\u001b[m\n",
      "drwxr-xr-x   8 loi  staff   256B Jul 19 19:55 \u001b[1m\u001b[36mface_detect\u001b[m\u001b[m\n",
      "drwxr-xr-x   6 loi  staff   192B Jul 19 15:25 \u001b[1m\u001b[36mtransfer_car_learning\u001b[m\u001b[m\n",
      "drwxr-xr-x   5 loi  staff   160B Jul 19 15:25 \u001b[1m\u001b[36mcollision_avoidance\u001b[m\u001b[m\n",
      "drwxr-xr-x   5 loi  staff   160B Jul 19 22:55 \u001b[1m\u001b[36mobject_following\u001b[m\u001b[m\n",
      "drwxr-xr-x   5 loi  staff   160B Jul 19 15:25 \u001b[1m\u001b[36mroad_following\u001b[m\u001b[m\n",
      "drwxr-xr-x   5 loi  staff   160B Jul 19 15:25 \u001b[1m\u001b[36mtransfer_learning_tutorial\u001b[m\u001b[m\n",
      "drwxr-xr-x   3 loi  staff    96B Jul 19 15:25 \u001b[1m\u001b[36mbasic_motion\u001b[m\u001b[m\n",
      "drwxr-xr-x   3 loi  staff    96B Jul 19 15:25 \u001b[1m\u001b[36mteleoperation\u001b[m\u001b[m\n",
      "drwxr-xr-x   2 loi  staff    64B Jul 19 22:53 \u001b[1m\u001b[36msandbox\u001b[m\u001b[m\n",
      "-rw-r--r--   1 loi  staff    24B Jul 19 15:25 README.md\n",
      "\n",
      "./SIFT_demo:\n",
      "total 65664\n",
      "-rw-r--r--@ 1 loi  staff    15M Jul 14 13:28 sift.html\n",
      "-rw-r--r--  1 loi  staff    15M Jul 14 13:27 sift.ipynb\n",
      "-rw-r--r--@ 1 loi  staff   1.1M Jul 14 13:24 2.png\n",
      "-rw-r--r--@ 1 loi  staff   1.0M Jul 14 13:24 1.png\n",
      "-rw-r--r--  1 loi  staff   985B Jul 14 13:15 sift.py\n",
      "-rw-r--r--  1 loi  staff   378B Jul 14 13:17 Sift_Operations.py\n",
      "drwxr-xr-x  3 loi  staff    96B Jul 14 13:17 \u001b[1m\u001b[36m__pycache__\u001b[m\u001b[m\n",
      "\n",
      "./SIFT_demo/__pycache__:\n",
      "total 8\n",
      "-rw-r--r--  1 loi  staff   668B Jul 14 13:17 Sift_Operations.cpython-37.pyc\n",
      "\n",
      "./face_recog:\n",
      "total 992368\n",
      "-rw-r--r--@  1 loi  staff   313M Jul 19 22:19 Ex4_ball-tracking.mov\n",
      "-rw-r--r--@  1 loi  staff    70M Jul 19 19:47 Ex3_face-recog.mov\n",
      "-rw-r--r--@  1 loi  staff    65M Jul 19 22:43 Ex5_line-detection.mov\n",
      "-rw-r--r--@  1 loi  staff   3.6M Jul 19 21:00 Exercise 3 face recognizer.ipynb\n",
      "-rw-r--r--@  1 loi  staff   216K Jul 19 22:43 Exercise 5 Line detection.ipynb\n",
      "-rw-r--r--@  1 loi  staff   3.1K Jul 19 22:21 Exercise 4 Ball Tracking with OpenCV.ipynb\n",
      "-rw-r--r--   1 loi  staff   1.9K Jul 19 22:18 ball_tracking.py\n",
      "drwxr-xr-x  10 loi  staff   320B Jul 19 22:46 \u001b[1m\u001b[36mdata\u001b[m\u001b[m\n",
      "\n",
      "./face_recog/data:\n",
      "total 389408\n",
      "-rw-r--r--@ 1 loi  staff    38M Jul 19 21:52 ball_green1.mov\n",
      "-rw-r--r--@ 1 loi  staff    34M Jul 19 22:04 ball_white2.mov\n",
      "-rw-r--r--@ 1 loi  staff    34M Jul 19 21:46 ball_red1.mov\n",
      "-rw-r--r--@ 1 loi  staff    33M Jul 19 21:57 ball_white1.mov\n",
      "-rw-r--r--@ 1 loi  staff    27M Jul 19 21:54 ball_green2.mov\n",
      "-rw-r--r--@ 1 loi  staff    21M Jul 19 21:49 ball_red2.mov\n",
      "-rw-r--r--  1 loi  staff   3.5M Jul 19 22:45 data.zip\n",
      "\n",
      "./scratch:\n",
      "total 144\n",
      "-rw-r--r--@ 1 loi  staff    36K Jul 19 22:51 sbc-bench.sh\n",
      "-rw-r--r--@ 1 loi  staff   8.8K Jul 19 22:51 examples.desktop\n",
      "-rw-r--r--@ 1 loi  staff   2.7K Jul 19 22:51 docker-compose.yml\n",
      "-rw-r--r--  1 loi  staff   933B Jul 19 22:55 scratch.ipynb\n",
      "-rw-r--r--@ 1 loi  staff   451B Jul 19 22:51 automagic-fan\n",
      "-rw-r--r--@ 1 loi  staff   196B Jul 19 22:51 scratch.txt\n",
      "-rw-r--r--@ 1 loi  staff   103B Jul 19 22:51 sudo nvpmodel\n",
      "-rw-r--r--@ 1 loi  staff    30B Jul 19 22:51 sudo jtop\n",
      "\n",
      "./palm_lines:\n",
      "total 864\n",
      "-rw-r--r--  1 loi  staff   150K Jul 14 20:26 palmlines.jpg\n",
      "-rw-r--r--  1 loi  staff   131K Jul 14 20:26 palmlines2.jpg\n",
      "-rw-r--r--@ 1 loi  staff    44K Jul 14 19:56 palm.jpg\n",
      "-rw-r--r--  1 loi  staff   2.5K Jul 14 20:43 palm_lines.ipynb\n",
      "drwxr-xr-x  6 loi  staff   192B Jul 14 20:24 \u001b[1m\u001b[36mpalm_b\u001b[m\u001b[m\n",
      "drwxr-xr-x  6 loi  staff   192B Jul 14 20:19 \u001b[1m\u001b[36mpalmlines\u001b[m\u001b[m\n",
      "\n",
      "./palm_lines/palm_b:\n",
      "total 3088\n",
      "-rw-r--r--@ 1 loi  staff   704K Jul 14 20:12 palmlines.jpg\n",
      "-rw-r--r--@ 1 loi  staff   588K Jul 14 20:12 palmlines2.jpg\n",
      "-rw-r--r--@ 1 loi  staff   198K Jul 14 19:50 palm_b.jpg\n",
      "\n",
      "./palm_lines/palmlines:\n",
      "total 736\n",
      "-rw-r--r--@ 1 loi  staff   150K Jul 14 20:11 palmlines.jpg\n",
      "-rw-r--r--@ 1 loi  staff   131K Jul 14 20:11 palmlines2.jpg\n",
      "-rw-r--r--@ 1 loi  staff    44K Jul 14 19:56 palm.jpg\n",
      "\n",
      "./images_manipulation:\n",
      "total 7328\n",
      "-rw-r--r--@ 1 loi  staff   2.2M Jul  5 14:32 images manipulation-original.ipynb\n",
      "-rw-------  1 loi  staff   237K Jul  5 14:29 images manipulation.ipynb\n",
      "-rw-r--r--@ 1 loi  staff   207K Jul  5 14:25 puppy.png\n",
      "-rw-r--r--@ 1 loi  staff   102K Jul  5 14:26 cat.png\n",
      "-rw-r--r--  1 loi  staff   5.1K Jul  4 19:36 sandbox.ipynb\n",
      "\n",
      "./face_detect:\n",
      "total 656\n",
      "-rw-r--r--  1 loi  staff   125K Jul 14 21:11 Final_detected_image.jpg\n",
      "-rw-r--r--  1 loi  staff   104K Jul 14 21:11 Original_grayscale_image.jpg\n",
      "-rw-r--r--@ 1 loi  staff    66K Jul 14 20:47 single_face.jpg\n",
      "-rw-r--r--  1 loi  staff   2.4K Jul 14 21:11 face_detect.ipynb\n",
      "\n",
      "./transfer_car_learning:\n",
      "total 13040\n",
      "-rw-r--r--  1 loi  staff   6.0M Jul 19 15:25 data.zip\n",
      "-rw-r--r--  1 loi  staff   252K Jul 19 15:25 transfer_car_learning2.ipynb\n",
      "-rw-r--r--  1 loi  staff    99K Jul 19 15:25 transfer_docker_car.ipynb\n",
      "\n",
      "./collision_avoidance:\n",
      "total 80\n",
      "-rw-r--r--  1 loi  staff    14K Jul 19 15:25 data_collection.ipynb\n",
      "-rw-r--r--  1 loi  staff   9.8K Jul 19 15:25 live_demo.ipynb\n",
      "-rw-r--r--  1 loi  staff   8.9K Jul 19 15:25 train_model.ipynb\n",
      "\n",
      "./object_following:\n",
      "total 40\n",
      "-rw-r--r--  1 loi  staff    17K Jul 19 15:25 live_demo.ipynb\n",
      "\n",
      "./road_following:\n",
      "total 72\n",
      "-rw-r--r--  1 loi  staff    12K Jul 19 15:25 data_collection.ipynb\n",
      "-rw-r--r--  1 loi  staff    11K Jul 19 15:25 live_demo.ipynb\n",
      "-rw-r--r--  1 loi  staff   9.5K Jul 19 15:25 train_model.ipynb\n",
      "\n",
      "./transfer_learning_tutorial:\n",
      "total 92928\n",
      "-rw-r--r--  1 loi  staff    45M Jul 19 15:25 data.zip\n",
      "-rw-r--r--  1 loi  staff   281K Jul 19 15:25 transfer_learning_tutorial.ipynb\n",
      "-rw-r--r--  1 loi  staff   3.9K Jul 19 15:25 Sandbox.ipynb\n",
      "\n",
      "./basic_motion:\n",
      "total 40\n",
      "-rw-r--r--  1 loi  staff    18K Jul 19 15:25 basic_motion.ipynb\n",
      "\n",
      "./teleoperation:\n",
      "total 24\n",
      "-rw-r--r--  1 loi  staff    10K Jul 19 15:25 teleoperation.ipynb\n",
      "\n",
      "./sandbox:\n"
     ]
    }
   ],
   "source": [
    "!ls -lhRS"
   ]
  },
  {
   "cell_type": "code",
   "execution_count": null,
   "metadata": {},
   "outputs": [],
   "source": []
  }
 ],
 "metadata": {
  "kernelspec": {
   "display_name": "Python 3",
   "language": "python",
   "name": "python3"
  },
  "language_info": {
   "codemirror_mode": {
    "name": "ipython",
    "version": 3
   },
   "file_extension": ".py",
   "mimetype": "text/x-python",
   "name": "python",
   "nbconvert_exporter": "python",
   "pygments_lexer": "ipython3",
   "version": "3.7.6"
  }
 },
 "nbformat": 4,
 "nbformat_minor": 4
}
