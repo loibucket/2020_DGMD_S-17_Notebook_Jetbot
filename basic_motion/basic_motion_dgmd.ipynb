{
 "cells": [
  {
   "cell_type": "markdown",
   "metadata": {},
   "source": [
    "Tutorial 1 - Basic Motion\n",
    "---\n",
    "\n",
    "Perform the following operations with your Jetbot Robot/ Jetbot Simulation  and submit a video (either mp4 or upload to youtube/vimeo and give us the link in a .txt file):\n",
    "\n",
    "Part 1. Commanding the robot\n",
    "---\n",
    "\n",
    "Task 1.  Try the basic motions\n",
    "---\n",
    "\n",
    "The Basic Robot class has the following methods: left, right, forward, and backward.\n",
    "\n",
    "The commands are:\n",
    "\n",
    "`robot.forward(speed_fw),`\n",
    "\n",
    "`robot.backward(speed_b),`\n",
    "\n",
    "`robot.left(speed_l),`\n",
    "\n",
    "`robot.right(speed_r)`\n",
    "\n",
    "Note: Only use these commands above\n",
    "\n",
    "Try creating your own Jupiter notebook to make the robot move at 50% speed for one second in each of these directions.\n",
    "\n",
    "submit the notebook (you can call it something like part1task1.ipynb) and a short video (part1task1.mp4 ) demonstrating each motion separately."
   ]
  },
  {
   "cell_type": "code",
   "execution_count": null,
   "metadata": {},
   "outputs": [],
   "source": [
    "import time\n",
    "from jetbot import Robot\n",
    "robot = Robot()"
   ]
  },
  {
   "cell_type": "code",
   "execution_count": null,
   "metadata": {},
   "outputs": [],
   "source": [
    "for i in range(1,5):\n",
    "    \n",
    "    robot.forward(0.3)\n",
    "    time.sleep(2)\n",
    "\n",
    "    robot.right(0.3)\n",
    "    time.sleep(0.3)\n",
    "\n",
    "    robot.forward(0.3)\n",
    "    time.sleep(2)\n",
    "\n",
    "    robot.backward(0.3)\n",
    "    time.sleep(2)\n",
    "\n",
    "    robot.left(0.3)\n",
    "    time.sleep(0.3)\n",
    "\n",
    "    robot.backward(0.3)\n",
    "    time.sleep(2)\n",
    "\n",
    "robot.stop()"
   ]
  },
  {
   "cell_type": "markdown",
   "metadata": {},
   "source": [
    "Task 2.  Almost straight right angle\n",
    "---\n",
    "\n",
    "Now that you are familiar with the basic motions from the class Robot on task 1, try making your robot move in a trajectory that moves the robot forward 2 seconds, then turn left approximately 90 degrees and then continue driving forward 2 seconds. Learn the speeds and time necessary to turn approximately 90 degrees by Trial and error, then try putting all the code in a function that you will write. \n",
    "\n",
    "Note: don't worry if the Robot does not go straight. making a function is a requirement. The approximate angle is the other requirement (approximate means -+ (plus, minus) 10 degrees is ok) \n",
    "\n",
    "Example of a function:\n",
    "\n",
    "`def my_function():\n",
    "  print(\"Hello from a function\")`\n",
    "  \n",
    " `my_function()`\n",
    "\n",
    "Note: Only use the commands on task 1, from the Robot class.\n",
    "\n",
    "Submit your notebook (you can call it something like part1task2.ipynb) and a video of the robot doing this operation (part1task2.mp4)."
   ]
  },
  {
   "cell_type": "code",
   "execution_count": null,
   "metadata": {},
   "outputs": [],
   "source": [
    "def inch_forward():\n",
    "    #move forward\n",
    "    time.sleep(.05)\n",
    "    robot.forward(0.3)\n",
    "    time.sleep(0.5)\n",
    "    #skew correct\n",
    "    robot.right(0.3)\n",
    "    time.sleep(0.001)\n",
    "    robot.stop()\n",
    "\n",
    "def turn_left():\n",
    "    #stop before and after turn improves accuracy\n",
    "    time.sleep(0.5)\n",
    "    robot.left(0.3)\n",
    "    time.sleep(0.45)\n",
    "    robot.stop()\n",
    "    time.sleep(0.5)\n",
    "    \n",
    "def task_two():\n",
    "    for i in range(1,10):\n",
    "        inch_forward()\n",
    "        inch_forward()\n",
    "        inch_forward()\n",
    "        inch_forward()\n",
    "        turn_left()\n",
    "        \n",
    "task_two()    \n",
    "robot.stop()"
   ]
  },
  {
   "cell_type": "markdown",
   "metadata": {},
   "source": [
    "Part 2. Controlling motors individually\n",
    "---\n",
    "\n",
    "Task 1.  Making the robot drive straight by controlling the motors individually as in the example:\n",
    "---\n",
    "\n",
    "`robot.left_motor.value = 0.3`\\\n",
    "`robot.right_motor.value = 0.6`\\\n",
    "`time.sleep(1.0)`\\\n",
    "`robot.left_motor.value = 0.0`\\\n",
    "`robot.right_motor.value = 0.0`\n",
    "\n",
    "Task: Based only on these commands, write a function that moves the robot in an almost straight line.\n",
    "\n",
    "Investigate by trial and error which values of these variables make the robot move approximately straight.\n",
    "\n",
    "robot.left_motor.value = ?\n",
    "robot.right_motor.value = ?\n",
    "\n",
    "Submit a Jupiter notebook (you can call it something like part2task1.ipynb). Make a video of the robot moving in an approximately straight line (mp4)"
   ]
  },
  {
   "cell_type": "code",
   "execution_count": null,
   "metadata": {},
   "outputs": [],
   "source": [
    "for i in range(1,5):\n",
    "    #move forward\n",
    "    robot.left_motor.value = 0.31\n",
    "    robot.right_motor.value = 0.3 \n",
    "    time.sleep(2.0)\n",
    "    \n",
    "    #stop\n",
    "    robot.left_motor.value = 0.0 \n",
    "    robot.right_motor.value = 0.0\n",
    "    time.sleep(1.0)\n",
    "    \n",
    "    #move backward\n",
    "    robot.left_motor.value = -0.3\n",
    "    robot.right_motor.value = -0.31\n",
    "    time.sleep(2.0)\n",
    "    \n",
    "    #stop\n",
    "    robot.left_motor.value = 0.0 \n",
    "    robot.right_motor.value = 0.0\n",
    "    time.sleep(1.0)"
   ]
  },
  {
   "cell_type": "markdown",
   "metadata": {},
   "source": [
    "Part 3.  Attach functions to events\n",
    "---\n",
    "Task 1.  \n",
    "---\n",
    "Use the code in the section of the example called Attach functions to events and make a video (mp4) of you trying to navigate around your improvised track (maybe with some tape on the floor is enough to demonstrate) using the buttons forward, backward, left and right, stop.\n",
    "\n",
    "you can name the video Part3Task1.mp4"
   ]
  },
  {
   "cell_type": "code",
   "execution_count": null,
   "metadata": {},
   "outputs": [],
   "source": []
  },
  {
   "cell_type": "markdown",
   "metadata": {},
   "source": [
    "Part 4. Heartbeat Killswitch\n",
    "---\n",
    "\n",
    "Task 1. Try executing the code below to start the motors, and then lower the slider to see what happens. You can also try disconnecting your robot or PC.\n",
    "---\n",
    "\n",
    "`robot.left(0.7)`\n",
    "\n",
    "now lower the `period` slider above until the network heartbeat can't be satisfied\n",
    "\n",
    "Make a video to show how the robot stops by lowering the value of the period\n",
    "\n",
    "you can name the video Part4Task1.mp4"
   ]
  },
  {
   "cell_type": "code",
   "execution_count": null,
   "metadata": {},
   "outputs": [],
   "source": []
  }
 ],
 "metadata": {
  "kernelspec": {
   "display_name": "Python 3",
   "language": "python",
   "name": "python3"
  },
  "language_info": {
   "codemirror_mode": {
    "name": "ipython",
    "version": 3
   },
   "file_extension": ".py",
   "mimetype": "text/x-python",
   "name": "python",
   "nbconvert_exporter": "python",
   "pygments_lexer": "ipython3",
   "version": "3.6.9"
  }
 },
 "nbformat": 4,
 "nbformat_minor": 4
}
