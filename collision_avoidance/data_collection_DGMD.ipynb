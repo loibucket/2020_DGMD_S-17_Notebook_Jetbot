{
 "cells": [
  {
   "cell_type": "markdown",
   "metadata": {},
   "source": [
    "Collision Avoidance Image Tagging\n",
    "---\n",
    "\n",
    "Setup\n",
    "---"
   ]
  },
  {
   "cell_type": "code",
   "execution_count": 16,
   "metadata": {},
   "outputs": [
    {
     "data": {
      "application/vnd.jupyter.widget-view+json": {
       "model_id": "b68df1ea3e4044b380588bb6d140cdde",
       "version_major": 2,
       "version_minor": 0
      },
      "text/plain": [
       "Controller()"
      ]
     },
     "metadata": {},
     "output_type": "display_data"
    }
   ],
   "source": [
    "import os\n",
    "import traitlets\n",
    "import uuid\n",
    "import subprocess\n",
    "\n",
    "from jetbot import Robot\n",
    "from jetbot import Camera\n",
    "from jetbot import bgr8_to_jpeg\n",
    "from jetbot import Heartbeat\n",
    "\n",
    "import ipywidgets.widgets as widgets\n",
    "\n",
    "#monitor wireless connection\n",
    "camera_links = set()\n",
    "cont_links = set()\n",
    "def handle_heartbeat_status(change):\n",
    "    if change['new'] == Heartbeat.Status.dead:\n",
    "        print('heartbeat connection lost')\n",
    "        while camera_links: camera_links.pop().unlink()\n",
    "        while cont_links: cont_links.pop().unlink()\n",
    "        robot.stop()\n",
    "\n",
    "heartbeat = Heartbeat(period=5)\n",
    "heartbeat.observe(handle_heartbeat_status, names='status') # attach the callback function to heartbeat status\n",
    "\n",
    "#start controller\n",
    "controller = widgets.Controller(index=0)  # replace with index of your controller\n",
    "display(controller)\n",
    "\n",
    "#xbox cont mapping\n",
    "#http://html5gamepad.com\n",
    "cont_A = 0; cont_B = 1; cont_X = 2; cont_Y = 3\n",
    "cont_L1 = 4; cont_R1 = 5; cont_L2 = 6; cont_R2 = 7\n",
    "cont_select = 8; cont_start = 9 \n",
    "cont_L3 = 10; cont_R3 = 11\n",
    "cont_up = 12; cont_down = 13; cont_left = 14; cont_right = 15\n",
    "joyleft_lr = 0; joyleft_ud = 1; joyright_lr = 2; joyright_ud = 3\n",
    "\n",
    "#hit any cont button to activate"
   ]
  },
  {
   "cell_type": "markdown",
   "metadata": {},
   "source": [
    "Run Robot\n",
    "---"
   ]
  },
  {
   "cell_type": "code",
   "execution_count": 15,
   "metadata": {},
   "outputs": [
    {
     "name": "stdout",
     "output_type": "stream",
     "text": [
      "cont_links 4\n",
      "camera_links 1\n",
      "Directories not created becasue they already exist\n"
     ]
    },
    {
     "data": {
      "application/vnd.jupyter.widget-view+json": {
       "model_id": "ffe7f9e86d18422fb01ebe29aa4fd5d7",
       "version_major": 2,
       "version_minor": 0
      },
      "text/plain": [
       "HBox(children=(VBox(children=(Label(value='Active View'), Image(value=b'\\xff\\xd8\\xff\\xe0\\x00\\x10JFIF\\x00\\x01\\x…"
      ]
     },
     "metadata": {},
     "output_type": "display_data"
    },
    {
     "data": {
      "application/vnd.jupyter.widget-view+json": {
       "model_id": "4e10a259423b49f5b7b8c23017be180f",
       "version_major": 2,
       "version_minor": 0
      },
      "text/plain": [
       "HBox(children=(IntText(value=32, layout=Layout(height='64px', width='128px')), Button(button_style='success', …"
      ]
     },
     "metadata": {},
     "output_type": "display_data"
    },
    {
     "data": {
      "application/vnd.jupyter.widget-view+json": {
       "model_id": "886969cfe4844471818b533b153cbfcb",
       "version_major": 2,
       "version_minor": 0
      },
      "text/plain": [
       "HBox(children=(IntText(value=16, layout=Layout(height='64px', width='128px')), Button(button_style='danger', d…"
      ]
     },
     "metadata": {},
     "output_type": "display_data"
    }
   ],
   "source": [
    "####### Teleoperations ########\n",
    "robot = Robot()\n",
    "\n",
    "fwd_ax = joyleft_ud\n",
    "turn_ax = joyright_lr\n",
    "fwd_tq = 0.35\n",
    "turn_tq = 0.35\n",
    "imbal = 1.05\n",
    "\n",
    "#clear existing links\n",
    "try:\n",
    "    while cont_links: links.pop().unlink()\n",
    "except: pass\n",
    "        \n",
    "#build links\n",
    "cont_links = [\n",
    "    #left stick fwd back right stick turn\n",
    "    traitlets.dlink((controller.axes[fwd_ax], 'value'), (robot.left_motor, 'value'), transform=lambda x: -fwd_tq*imbal*x),\n",
    "    traitlets.dlink((controller.axes[fwd_ax], 'value'), (robot.right_motor, 'value'), transform=lambda x: -fwd_tq*x),\n",
    "    traitlets.dlink((controller.axes[turn_ax], 'value'), (robot.left_motor, 'value'), transform=lambda x: turn_tq*x),\n",
    "    traitlets.dlink((controller.axes[turn_ax], 'value'), (robot.right_motor, 'value'), transform=lambda x: -turn_tq*x)\n",
    "]\n",
    "\n",
    "print(\"cont_links\",len(cont_links))\n",
    "\n",
    "#add button functions\n",
    "for b in [cont_select,cont_start]: \n",
    "    controller.buttons[b].unobserve_all()\n",
    "    controller.buttons[b].observe(lambda data: robot.stop(), names='value')\n",
    "\n",
    "#robot.left(0.3) #hit select or start to stop\n",
    "#print('hit select or start to stop spinning')\n",
    "\n",
    "####### Camera Setup #######\n",
    "\n",
    "camera = Camera.instance(fps=15)\n",
    "active_image_view = widgets.Image(format='jpeg', width=300, height=300)\n",
    "snapshot_image_view = widgets.Image(format='jpeg', width=300, height=300)\n",
    "\n",
    "#setup snapshot function\n",
    "subprocess.call(['mkdir', '-p', 'snapshots'])\n",
    "def cont_save_snapshot(change):\n",
    "    # save snapshot when button is pressed down\n",
    "    if change['new']:\n",
    "        file_path = 'snapshots/' + str(uuid.uuid1()) + '.jpg'\n",
    "        # write snapshot to file (we use image value instead of camera because it's already in JPEG format)\n",
    "        with open(file_path, 'wb') as f:\n",
    "            f.write(active_image_view.value)\n",
    "        # display snapshot that was saved\n",
    "        snapshot_image_view.value = active_image_view.value\n",
    "\n",
    "#clear existing links\n",
    "try:\n",
    "    while camera_links: camera_links.pop().unlink()\n",
    "except: pass\n",
    "\n",
    "camera_links = [traitlets.dlink((camera, 'value'), (active_image_view, 'value'), transform=bgr8_to_jpeg)]\n",
    "print(\"camera_links\",len(camera_links))\n",
    "\n",
    "#add button functions\n",
    "for b in [cont_L1,cont_L2,cont_R1,cont_R2]: \n",
    "    controller.buttons[b].unobserve_all(); controller.buttons[b].observe(cont_save_snapshot, names='value')\n",
    "\n",
    "\n",
    "####### Image Tagging #######\n",
    "\n",
    "tagged_image_view = widgets.Image(format='jpeg', width=300, height=300)\n",
    "\n",
    "blocked_dir = 'dataset/blocked'\n",
    "free_dir = 'dataset/free'\n",
    "\n",
    "# we have this \"try/except\" statement because these next functions can throw an error if the directories exist already\n",
    "try:\n",
    "    os.makedirs(free_dir)\n",
    "    os.makedirs(blocked_dir)\n",
    "except FileExistsError: print('Directories not created becasue they already exist')\n",
    "    \n",
    "button_layout = widgets.Layout(width='128px', height='64px')\n",
    "free_button = widgets.Button(description='A: add free', button_style='success', layout=button_layout)\n",
    "blocked_button = widgets.Button(description='B: add blocked', button_style='danger', layout=button_layout)\n",
    "\n",
    "free_count = widgets.IntText(layout=button_layout, value=len(os.listdir(free_dir)))\n",
    "blocked_count = widgets.IntText(layout=button_layout, value=len(os.listdir(blocked_dir)))\n",
    "\n",
    "active_box = widgets.VBox([widgets.Label('Active View'),active_image_view])\n",
    "tagged_box = (widgets.VBox([widgets.Label('Last Tagged'),tagged_image_view]))\n",
    "snap_box = (widgets.VBox([widgets.Label('Last Snapshot'),snapshot_image_view]))\n",
    "\n",
    "display(widgets.HBox([active_box,tagged_box,snap_box]))\n",
    "display(widgets.HBox([free_count, free_button]))\n",
    "display(widgets.HBox([blocked_count, blocked_button]))\n",
    "\n",
    "def tag_image(directory):\n",
    "    image_path = os.path.join(directory, str(uuid.uuid1()) + '.jpg')\n",
    "    with open(image_path, 'wb') as f:\n",
    "        f.write(active_image_view.value)\n",
    "        tagged_image_view.value = active_image_view.value\n",
    "\n",
    "def save_free():\n",
    "    global free_dir, free_count\n",
    "    tag_image(free_dir)\n",
    "    free_count.value = len(os.listdir(free_dir))\n",
    "    \n",
    "def cont_save_free(change):\n",
    "    if change['new']:\n",
    "        save_free()\n",
    "    \n",
    "def save_blocked():\n",
    "    global blocked_dir, blocked_count\n",
    "    tag_image(blocked_dir)\n",
    "    blocked_count.value = len(os.listdir(blocked_dir))\n",
    "\n",
    "def cont_save_blocked(change):\n",
    "    if change['new']:\n",
    "        save_blocked()\n",
    "    \n",
    "# attach the callbacks, we use a 'lambda' function to ignore the\n",
    "# parameter that the on_click event would provide to our function\n",
    "# because we don't need it.\n",
    "free_button.on_click(lambda x: save_free())\n",
    "blocked_button.on_click(lambda x: save_blocked())\n",
    "\n",
    "#add button functions\n",
    "controller.buttons[cont_A].unobserve_all()\n",
    "controller.buttons[cont_B].unobserve_all() \n",
    "\n",
    "controller.buttons[cont_A].observe(cont_save_free, names='value')\n",
    "controller.buttons[cont_B].observe(cont_save_blocked, names='value')\n",
    "\n",
    "#controller.buttons[cont_A].unobserve_all()\n",
    "#controller.buttons[cont_B].unobserve_all() "
   ]
  },
  {
   "cell_type": "markdown",
   "metadata": {},
   "source": [
    "Zip Files\n",
    "---\n",
    "\n",
    "Once you've collected enough data, we'll need to copy that data to our GPU desktop or cloud machine for training.  First, we can call the following *terminal* command to compress\n",
    "our dataset folder into a single *zip* file.\n",
    "\n",
    "> The ! prefix indicates that we want to run the cell as a *shell* (or *terminal*) command.\n",
    "\n",
    "> The -r flag in the zip command below indicates *recursive* so that we include all nested files, the -q flag indicates *quiet* so that the zip command doesn't print any output"
   ]
  },
  {
   "cell_type": "code",
   "execution_count": null,
   "metadata": {},
   "outputs": [],
   "source": [
    "!zip -r -q dataset.zip dataset"
   ]
  },
  {
   "cell_type": "markdown",
   "metadata": {},
   "source": [
    "You should see a file named ``dataset.zip`` in the Jupyter Lab file browser.  You should download the zip file using the Jupyter Lab file browser by right clicking and selecting ``Download``.\n",
    "\n",
    "Next, we'll need to upload this data to our GPU desktop or cloud machine (we refer to this as the *host*) to train the collision avoidance neural network.  We'll assume that you've set up your training\n",
    "machine as described in the JetBot WiKi.  If you have, you can navigate to ``http://<host_ip_address>:8888`` to open up the Jupyter Lab environment running on the host.  The notebook you'll need to open there is called ``collision_avoidance/train_model.ipynb``.\n",
    "\n",
    "So head on over to your training machine and follow the instructions there!  Once your model is trained, we'll return to the robot Jupyter Lab enivornment to use the model for a live demo!"
   ]
  }
 ],
 "metadata": {
  "kernelspec": {
   "display_name": "Python 3",
   "language": "python",
   "name": "python3"
  },
  "language_info": {
   "codemirror_mode": {
    "name": "ipython",
    "version": 3
   },
   "file_extension": ".py",
   "mimetype": "text/x-python",
   "name": "python",
   "nbconvert_exporter": "python",
   "pygments_lexer": "ipython3",
   "version": "3.6.9"
  }
 },
 "nbformat": 4,
 "nbformat_minor": 4
}
