{
 "cells": [
  {
   "cell_type": "markdown",
   "metadata": {},
   "source": [
    "# Collision Avoidance - Data Collection"
   ]
  },
  {
   "cell_type": "markdown",
   "metadata": {},
   "source": [
    "### Stop robot if network disconnects"
   ]
  },
  {
   "cell_type": "markdown",
   "metadata": {},
   "source": [
    "### Create gamepad controller"
   ]
  },
  {
   "cell_type": "code",
   "execution_count": 3,
   "metadata": {},
   "outputs": [
    {
     "data": {
      "application/vnd.jupyter.widget-view+json": {
       "model_id": "270a64858ae14d479e1c249d95a9668d",
       "version_major": 2,
       "version_minor": 0
      },
      "text/plain": [
       "Controller()"
      ]
     },
     "metadata": {},
     "output_type": "display_data"
    }
   ],
   "source": [
    "import os\n",
    "import traitlets\n",
    "import uuid\n",
    "import subprocess\n",
    "\n",
    "from jetbot import Robot\n",
    "from jetbot import Camera\n",
    "from jetbot import bgr8_to_jpeg\n",
    "from jetbot import Heartbeat\n",
    "\n",
    "import ipywidgets.widgets as widgets\n",
    "\n",
    "#monitor wireless connection\n",
    "camera_links = set()\n",
    "cont_links = set()\n",
    "def handle_heartbeat_status(change):\n",
    "    if change['new'] == Heartbeat.Status.dead:\n",
    "        print('heartbeat connection lost')\n",
    "        while camera_links: camera_links.pop().unlink()\n",
    "        while cont_links: cont_links.pop().unlink()\n",
    "        robot.stop()\n",
    "\n",
    "heartbeat = Heartbeat(period=5)\n",
    "heartbeat.observe(handle_heartbeat_status, names='status') # attach the callback function to heartbeat status\n",
    "\n",
    "#start controller\n",
    "controller = widgets.Controller(index=0)  # replace with index of your controller\n",
    "display(controller)\n",
    "\n",
    "#xbox cont mapping\n",
    "#http://html5gamepad.com\n",
    "cont_A = 0; cont_B = 1; cont_X = 2; cont_Y = 3\n",
    "cont_L1 = 4; cont_R1 = 5; cont_L2 = 6; cont_R2 = 7\n",
    "cont_select = 8; cont_start = 9 \n",
    "cont_L3 = 10; cont_R3 = 11\n",
    "cont_up = 12; cont_down = 13; cont_left = 14; cont_right = 15\n",
    "joyleft_lr = 0; joyleft_ud = 1; joyright_lr = 2; joyright_ud = 3\n",
    "\n",
    "#hit any cont button to activate"
   ]
  },
  {
   "cell_type": "markdown",
   "metadata": {},
   "source": [
    "### Connect gamepad controller to robot motors"
   ]
  },
  {
   "cell_type": "markdown",
   "metadata": {},
   "source": [
    "### Create camera instance\n",
    "- Create and display Image widget\n",
    "- Connect Camera to Image widget\n",
    "- Display live camera feed"
   ]
  },
  {
   "cell_type": "markdown",
   "metadata": {},
   "source": [
    "### Save snapshots and tag images with gamepad button"
   ]
  },
  {
   "cell_type": "code",
   "execution_count": 5,
   "metadata": {},
   "outputs": [
    {
     "name": "stdout",
     "output_type": "stream",
     "text": [
      "cont_links 4\n"
     ]
    },
    {
     "ename": "RuntimeError",
     "evalue": "Could not initialize camera.  Please see error trace.",
     "output_type": "error",
     "traceback": [
      "\u001b[0;31m---------------------------------------------------------------------------\u001b[0m",
      "\u001b[0;31mRuntimeError\u001b[0m                              Traceback (most recent call last)",
      "\u001b[0;32m/usr/local/lib/python3.6/dist-packages/jetbot-0.4.0-py3.6.egg/jetbot/camera.py\u001b[0m in \u001b[0;36m__init__\u001b[0;34m(self, *args, **kwargs)\u001b[0m\n\u001b[1;32m     29\u001b[0m             \u001b[0;32mif\u001b[0m \u001b[0;32mnot\u001b[0m \u001b[0mre\u001b[0m\u001b[0;34m:\u001b[0m\u001b[0;34m\u001b[0m\u001b[0;34m\u001b[0m\u001b[0m\n\u001b[0;32m---> 30\u001b[0;31m                 \u001b[0;32mraise\u001b[0m \u001b[0mRuntimeError\u001b[0m\u001b[0;34m(\u001b[0m\u001b[0;34m'Could not read image from camera.'\u001b[0m\u001b[0;34m)\u001b[0m\u001b[0;34m\u001b[0m\u001b[0;34m\u001b[0m\u001b[0m\n\u001b[0m\u001b[1;32m     31\u001b[0m \u001b[0;34m\u001b[0m\u001b[0m\n",
      "\u001b[0;31mRuntimeError\u001b[0m: Could not read image from camera.",
      "\nDuring handling of the above exception, another exception occurred:\n",
      "\u001b[0;31mRuntimeError\u001b[0m                              Traceback (most recent call last)",
      "\u001b[0;32m<ipython-input-5-05228eba7934>\u001b[0m in \u001b[0;36m<module>\u001b[0;34m\u001b[0m\n\u001b[1;32m     34\u001b[0m \u001b[0;31m####### Camera Setup #######\u001b[0m\u001b[0;34m\u001b[0m\u001b[0;34m\u001b[0m\u001b[0;34m\u001b[0m\u001b[0m\n\u001b[1;32m     35\u001b[0m \u001b[0;34m\u001b[0m\u001b[0m\n\u001b[0;32m---> 36\u001b[0;31m \u001b[0mcamera\u001b[0m \u001b[0;34m=\u001b[0m \u001b[0mCamera\u001b[0m\u001b[0;34m.\u001b[0m\u001b[0minstance\u001b[0m\u001b[0;34m(\u001b[0m\u001b[0mfps\u001b[0m\u001b[0;34m=\u001b[0m\u001b[0;36m15\u001b[0m\u001b[0;34m)\u001b[0m\u001b[0;34m\u001b[0m\u001b[0;34m\u001b[0m\u001b[0m\n\u001b[0m\u001b[1;32m     37\u001b[0m \u001b[0mactive_image_view\u001b[0m \u001b[0;34m=\u001b[0m \u001b[0mwidgets\u001b[0m\u001b[0;34m.\u001b[0m\u001b[0mImage\u001b[0m\u001b[0;34m(\u001b[0m\u001b[0mformat\u001b[0m\u001b[0;34m=\u001b[0m\u001b[0;34m'jpeg'\u001b[0m\u001b[0;34m,\u001b[0m \u001b[0mwidth\u001b[0m\u001b[0;34m=\u001b[0m\u001b[0;36m300\u001b[0m\u001b[0;34m,\u001b[0m \u001b[0mheight\u001b[0m\u001b[0;34m=\u001b[0m\u001b[0;36m300\u001b[0m\u001b[0;34m)\u001b[0m\u001b[0;34m\u001b[0m\u001b[0;34m\u001b[0m\u001b[0m\n\u001b[1;32m     38\u001b[0m \u001b[0msnapshot_image_view\u001b[0m \u001b[0;34m=\u001b[0m \u001b[0mwidgets\u001b[0m\u001b[0;34m.\u001b[0m\u001b[0mImage\u001b[0m\u001b[0;34m(\u001b[0m\u001b[0mformat\u001b[0m\u001b[0;34m=\u001b[0m\u001b[0;34m'jpeg'\u001b[0m\u001b[0;34m,\u001b[0m \u001b[0mwidth\u001b[0m\u001b[0;34m=\u001b[0m\u001b[0;36m300\u001b[0m\u001b[0;34m,\u001b[0m \u001b[0mheight\u001b[0m\u001b[0;34m=\u001b[0m\u001b[0;36m300\u001b[0m\u001b[0;34m)\u001b[0m\u001b[0;34m\u001b[0m\u001b[0;34m\u001b[0m\u001b[0m\n",
      "\u001b[0;32m/usr/local/lib/python3.6/dist-packages/traitlets/config/configurable.py\u001b[0m in \u001b[0;36minstance\u001b[0;34m(cls, *args, **kwargs)\u001b[0m\n\u001b[1;32m    508\u001b[0m         \u001b[0;31m# Create and save the instance\u001b[0m\u001b[0;34m\u001b[0m\u001b[0;34m\u001b[0m\u001b[0;34m\u001b[0m\u001b[0m\n\u001b[1;32m    509\u001b[0m         \u001b[0;32mif\u001b[0m \u001b[0mcls\u001b[0m\u001b[0;34m.\u001b[0m\u001b[0m_instance\u001b[0m \u001b[0;32mis\u001b[0m \u001b[0;32mNone\u001b[0m\u001b[0;34m:\u001b[0m\u001b[0;34m\u001b[0m\u001b[0;34m\u001b[0m\u001b[0m\n\u001b[0;32m--> 510\u001b[0;31m             \u001b[0minst\u001b[0m \u001b[0;34m=\u001b[0m \u001b[0mcls\u001b[0m\u001b[0;34m(\u001b[0m\u001b[0;34m*\u001b[0m\u001b[0margs\u001b[0m\u001b[0;34m,\u001b[0m \u001b[0;34m**\u001b[0m\u001b[0mkwargs\u001b[0m\u001b[0;34m)\u001b[0m\u001b[0;34m\u001b[0m\u001b[0;34m\u001b[0m\u001b[0m\n\u001b[0m\u001b[1;32m    511\u001b[0m             \u001b[0;31m# Now make sure that the instance will also be returned by\u001b[0m\u001b[0;34m\u001b[0m\u001b[0;34m\u001b[0m\u001b[0;34m\u001b[0m\u001b[0m\n\u001b[1;32m    512\u001b[0m             \u001b[0;31m# parent classes' _instance attribute.\u001b[0m\u001b[0;34m\u001b[0m\u001b[0;34m\u001b[0m\u001b[0;34m\u001b[0m\u001b[0m\n",
      "\u001b[0;32m/usr/local/lib/python3.6/dist-packages/jetbot-0.4.0-py3.6.egg/jetbot/camera.py\u001b[0m in \u001b[0;36m__init__\u001b[0;34m(self, *args, **kwargs)\u001b[0m\n\u001b[1;32m     35\u001b[0m             \u001b[0mself\u001b[0m\u001b[0;34m.\u001b[0m\u001b[0mstop\u001b[0m\u001b[0;34m(\u001b[0m\u001b[0;34m)\u001b[0m\u001b[0;34m\u001b[0m\u001b[0;34m\u001b[0m\u001b[0m\n\u001b[1;32m     36\u001b[0m             raise RuntimeError(\n\u001b[0;32m---> 37\u001b[0;31m                 'Could not initialize camera.  Please see error trace.')\n\u001b[0m\u001b[1;32m     38\u001b[0m \u001b[0;34m\u001b[0m\u001b[0m\n\u001b[1;32m     39\u001b[0m         \u001b[0matexit\u001b[0m\u001b[0;34m.\u001b[0m\u001b[0mregister\u001b[0m\u001b[0;34m(\u001b[0m\u001b[0mself\u001b[0m\u001b[0;34m.\u001b[0m\u001b[0mstop\u001b[0m\u001b[0;34m)\u001b[0m\u001b[0;34m\u001b[0m\u001b[0;34m\u001b[0m\u001b[0m\n",
      "\u001b[0;31mRuntimeError\u001b[0m: Could not initialize camera.  Please see error trace."
     ]
    }
   ],
   "source": [
    "####### Teleoperations ########\n",
    "robot = Robot()\n",
    "\n",
    "fwd_ax = joyleft_ud\n",
    "turn_ax = joyright_lr\n",
    "fwd_tq = 0.35\n",
    "turn_tq = 0.35\n",
    "imbal = 1.05\n",
    "\n",
    "#clear existing links\n",
    "try:\n",
    "    while cont_links: links.pop().unlink()\n",
    "except: pass\n",
    "        \n",
    "#build links\n",
    "cont_links = [\n",
    "    #left stick fwd back right stick turn\n",
    "    traitlets.dlink((controller.axes[fwd_ax], 'value'), (robot.left_motor, 'value'), transform=lambda x: -fwd_tq*imbal*x),\n",
    "    traitlets.dlink((controller.axes[fwd_ax], 'value'), (robot.right_motor, 'value'), transform=lambda x: -fwd_tq*x),\n",
    "    traitlets.dlink((controller.axes[turn_ax], 'value'), (robot.left_motor, 'value'), transform=lambda x: turn_tq*x),\n",
    "    traitlets.dlink((controller.axes[turn_ax], 'value'), (robot.right_motor, 'value'), transform=lambda x: -turn_tq*x)\n",
    "]\n",
    "\n",
    "print(\"cont_links\",len(cont_links))\n",
    "\n",
    "#add button functions\n",
    "for b in [cont_select,cont_start]: \n",
    "    controller.buttons[b].unobserve_all()\n",
    "    controller.buttons[b].observe(lambda data: robot.stop(), names='value')\n",
    "\n",
    "#robot.left(0.3) #hit select or start to stop\n",
    "#print('hit select or start to stop spinning')\n",
    "\n",
    "####### Camera Setup #######\n",
    "\n",
    "camera = Camera.instance(fps=15)\n",
    "active_image_view = widgets.Image(format='jpeg', width=300, height=300)\n",
    "snapshot_image_view = widgets.Image(format='jpeg', width=300, height=300)\n",
    "\n",
    "#setup snapshot function\n",
    "subprocess.call(['mkdir', '-p', 'snapshots'])\n",
    "def cont_save_snapshot(change):\n",
    "    # save snapshot when button is pressed down\n",
    "    if change['new']:\n",
    "        file_path = 'snapshots/' + str(uuid.uuid1()) + '.jpg'\n",
    "        # write snapshot to file (we use image value instead of camera because it's already in JPEG format)\n",
    "        with open(file_path, 'wb') as f:\n",
    "            f.write(active_image_view.value)\n",
    "        # display snapshot that was saved\n",
    "        snapshot_image_view.value = active_image_view.value\n",
    "\n",
    "#clear existing links\n",
    "try:\n",
    "    while camera_links: camera_links.pop().unlink()\n",
    "except: pass\n",
    "\n",
    "camera_links = [traitlets.dlink((camera, 'value'), (active_image_view, 'value'), transform=bgr8_to_jpeg)]\n",
    "print(\"camera_links\",len(camera_links))\n",
    "\n",
    "#add button functions\n",
    "for b in [cont_L1,cont_L2,cont_R1,cont_R2]: \n",
    "    controller.buttons[b].unobserve_all(); controller.buttons[b].observe(cont_save_snapshot, names='value')\n",
    "\n",
    "\n",
    "####### Image Tagging #######\n",
    "\n",
    "tagged_image_view = widgets.Image(format='jpeg', width=300, height=300)\n",
    "\n",
    "blocked_dir = 'dataset/blocked'\n",
    "free_dir = 'dataset/free'\n",
    "\n",
    "# we have this \"try/except\" statement because these next functions can throw an error if the directories exist already\n",
    "try:\n",
    "    os.makedirs(free_dir)\n",
    "    os.makedirs(blocked_dir)\n",
    "except FileExistsError: print('Directories not created becasue they already exist')\n",
    "    \n",
    "button_layout = widgets.Layout(width='128px', height='64px')\n",
    "free_button = widgets.Button(description='A: add free', button_style='success', layout=button_layout)\n",
    "blocked_button = widgets.Button(description='B: add blocked', button_style='danger', layout=button_layout)\n",
    "\n",
    "free_count = widgets.IntText(layout=button_layout, value=len(os.listdir(free_dir)))\n",
    "blocked_count = widgets.IntText(layout=button_layout, value=len(os.listdir(blocked_dir)))\n",
    "\n",
    "active_box = widgets.VBox([widgets.Label('Active View'),active_image_view])\n",
    "tagged_box = (widgets.VBox([widgets.Label('Last Tagged'),tagged_image_view]))\n",
    "snap_box = (widgets.VBox([widgets.Label('Last Snapshot'),snapshot_image_view]))\n",
    "\n",
    "display(widgets.HBox([active_box,tagged_box,snap_box]))\n",
    "display(widgets.HBox([free_count, free_button]))\n",
    "display(widgets.HBox([blocked_count, blocked_button]))\n",
    "\n",
    "def tag_image(directory):\n",
    "    image_path = os.path.join(directory, str(uuid.uuid1()) + '.jpg')\n",
    "    with open(image_path, 'wb') as f:\n",
    "        f.write(active_image_view.value)\n",
    "        tagged_image_view.value = active_image_view.value\n",
    "\n",
    "def save_free():\n",
    "    global free_dir, free_count\n",
    "    tag_image(free_dir)\n",
    "    free_count.value = len(os.listdir(free_dir))\n",
    "    \n",
    "def cont_save_free(change):\n",
    "    if change['new']:\n",
    "        save_free()\n",
    "    \n",
    "def save_blocked():\n",
    "    global blocked_dir, blocked_count\n",
    "    tag_image(blocked_dir)\n",
    "    blocked_count.value = len(os.listdir(blocked_dir))\n",
    "\n",
    "def cont_save_blocked(change):\n",
    "    if change['new']:\n",
    "        save_blocked()\n",
    "    \n",
    "# attach the callbacks, we use a 'lambda' function to ignore the\n",
    "# parameter that the on_click event would provide to our function\n",
    "# because we don't need it.\n",
    "free_button.on_click(lambda x: save_free())\n",
    "blocked_button.on_click(lambda x: save_blocked())\n",
    "\n",
    "#add button functions\n",
    "controller.buttons[cont_A].unobserve_all()\n",
    "controller.buttons[cont_B].unobserve_all() \n",
    "\n",
    "controller.buttons[cont_A].observe(cont_save_free, names='value')\n",
    "controller.buttons[cont_B].observe(cont_save_blocked, names='value')\n",
    "\n",
    "#controller.buttons[cont_A].unobserve_all()\n",
    "#controller.buttons[cont_B].unobserve_all() "
   ]
  },
  {
   "cell_type": "markdown",
   "metadata": {},
   "source": [
    "Zip Files\n",
    "---"
   ]
  },
  {
   "cell_type": "code",
   "execution_count": 1,
   "metadata": {},
   "outputs": [],
   "source": [
    "!zip -r -q dataset.zip dataset"
   ]
  }
 ],
 "metadata": {
  "kernelspec": {
   "display_name": "Python 3",
   "language": "python",
   "name": "python3"
  },
  "language_info": {
   "codemirror_mode": {
    "name": "ipython",
    "version": 3
   },
   "file_extension": ".py",
   "mimetype": "text/x-python",
   "name": "python",
   "nbconvert_exporter": "python",
   "pygments_lexer": "ipython3",
   "version": "3.6.9"
  }
 },
 "nbformat": 4,
 "nbformat_minor": 4
}
