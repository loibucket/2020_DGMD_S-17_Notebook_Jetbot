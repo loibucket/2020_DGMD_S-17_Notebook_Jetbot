{
 "cells": [
  {
   "cell_type": "markdown",
   "metadata": {},
   "source": [
    "# Teleoperation"
   ]
  },
  {
   "cell_type": "markdown",
   "metadata": {},
   "source": [
    "### Stop robot if network disconnects"
   ]
  },
  {
   "cell_type": "markdown",
   "metadata": {},
   "source": [
    "### Create camera instance\n",
    "- Create and display Image widget\n",
    "- Connect Camera to Image widget\n",
    "- Display live camera feed"
   ]
  },
  {
   "cell_type": "markdown",
   "metadata": {},
   "source": [
    "### Create gamepad controller"
   ]
  },
  {
   "cell_type": "code",
   "execution_count": 4,
   "metadata": {},
   "outputs": [
    {
     "data": {
      "application/vnd.jupyter.widget-view+json": {
       "model_id": "d07fc25d0bed458198e2d05876abe283",
       "version_major": 2,
       "version_minor": 0
      },
      "text/plain": [
       "Controller()"
      ]
     },
     "metadata": {},
     "output_type": "display_data"
    }
   ],
   "source": [
    "#setup\n",
    "import ipywidgets.widgets as widgets\n",
    "import traitlets\n",
    "import uuid\n",
    "import subprocess\n",
    "\n",
    "from jetbot import Robot\n",
    "from jetbot import Camera\n",
    "from jetbot import bgr8_to_jpeg\n",
    "from jetbot import Heartbeat\n",
    "\n",
    "#monitor robot connections\n",
    "def handle_heartbeat_status(change):\n",
    "    if change['new'] == Heartbeat.Status.dead:\n",
    "        for link in links:\n",
    "            link.unlink()\n",
    "        robot.stop()\n",
    "        \n",
    "heartbeat = Heartbeat(period=0.5)\n",
    "heartbeat.observe(handle_heartbeat_status, names='status') # attach the callback function to heartbeat status\n",
    "\n",
    "#setup camera snapshots\n",
    "subprocess.call(['mkdir', '-p', 'snapshots'])\n",
    "snapshot_image = widgets.Image(format='jpeg', width=300, height=300)\n",
    "def save_snapshot(change):\n",
    "    # save snapshot when button is pressed down\n",
    "    if change['new']:\n",
    "        file_path = 'snapshots/' + str(uuid.uuid1()) + '.jpg'\n",
    "        # write snapshot to file (we use image value instead of camera because it's already in JPEG format)\n",
    "        with open(file_path, 'wb') as f:\n",
    "            f.write(image.value)\n",
    "        # display snapshot that was saved\n",
    "        snapshot_image.value = image.value\n",
    "\n",
    "#start controller\n",
    "controller = widgets.Controller(index=0)  # replace with index of your controller\n",
    "display(controller)\n",
    "\n",
    "#init links\n",
    "link = []"
   ]
  },
  {
   "cell_type": "markdown",
   "metadata": {},
   "source": [
    "### Connect gamepad controller to robot motors"
   ]
  },
  {
   "cell_type": "markdown",
   "metadata": {},
   "source": [
    "### Connect Camera to Image widget"
   ]
  },
  {
   "cell_type": "code",
   "execution_count": 8,
   "metadata": {},
   "outputs": [
    {
     "data": {
      "application/vnd.jupyter.widget-view+json": {
       "model_id": "59b1591b52874d858dbd088ad1faaa2c",
       "version_major": 2,
       "version_minor": 0
      },
      "text/plain": [
       "HBox(children=(Image(value=b'\\xff\\xd8\\xff\\xe0\\x00\\x10JFIF\\x00\\x01\\x01\\x00\\x00\\x01\\x00\\x01\\x00\\x00\\xff\\xdb\\x00C…"
      ]
     },
     "metadata": {},
     "output_type": "display_data"
    },
    {
     "data": {
      "application/vnd.jupyter.widget-view+json": {
       "model_id": "d07fc25d0bed458198e2d05876abe283",
       "version_major": 2,
       "version_minor": 0
      },
      "text/plain": [
       "Controller(axes=(Axis(value=0.0), Axis(value=0.0), Axis(value=0.0), Axis(value=0.0)), buttons=(Button(value=0.…"
      ]
     },
     "metadata": {},
     "output_type": "display_data"
    }
   ],
   "source": [
    "#connect robot\n",
    "robot = Robot()\n",
    "camera = Camera.instance(fps=24) #(fps=10)\n",
    "image = widgets.Image(format='jpeg', width=300, height=300)\n",
    "#display(image)\n",
    "\n",
    "fwd_ax = 1\n",
    "turn_ax = 2\n",
    "fwd_tq = 0.3\n",
    "turn_tq = 0.3\n",
    "imbal = 1.05\n",
    "\n",
    "#clear existing links\n",
    "try:\n",
    "    while links: links.pop().unlink()\n",
    "except:\n",
    "    pass\n",
    "        \n",
    "#build links\n",
    "links = [\n",
    "    #left stick fwd back right stick turn\n",
    "    traitlets.dlink((controller.axes[fwd_ax], 'value'), (robot.left_motor, 'value'), transform=lambda x: -fwd_tq*imbal*x),\n",
    "    traitlets.dlink((controller.axes[fwd_ax], 'value'), (robot.right_motor, 'value'), transform=lambda x: -fwd_tq*x),\n",
    "    traitlets.dlink((controller.axes[turn_ax], 'value'), (robot.left_motor, 'value'), transform=lambda x: turn_tq*x),\n",
    "    traitlets.dlink((controller.axes[turn_ax], 'value'), (robot.right_motor, 'value'), transform=lambda x: -turn_tq*x),\n",
    "    #camera\n",
    "    traitlets.dlink((camera, 'value'), (image, 'value'), transform=bgr8_to_jpeg)\n",
    "]\n",
    "\n",
    "for b in range(4): controller.buttons[b].observe(lambda data: robot.stop(), names='value') #xyab stop\n",
    "for c in range(4,17): controller.buttons[c].observe(save_snapshot, names='value') #all other buttons take pictures\n",
    "        \n",
    "display(widgets.HBox([image, snapshot_image]))\n",
    "display(controller)"
   ]
  },
  {
   "cell_type": "markdown",
   "metadata": {},
   "source": [
    "### Stop"
   ]
  },
  {
   "cell_type": "code",
   "execution_count": null,
   "metadata": {},
   "outputs": [],
   "source": [
    "#stop\n",
    "while links: links.pop().unlink()\n",
    "robot.stop()"
   ]
  }
 ],
 "metadata": {
  "kernelspec": {
   "display_name": "Python 3",
   "language": "python",
   "name": "python3"
  },
  "language_info": {
   "codemirror_mode": {
    "name": "ipython",
    "version": 3
   },
   "file_extension": ".py",
   "mimetype": "text/x-python",
   "name": "python",
   "nbconvert_exporter": "python",
   "pygments_lexer": "ipython3",
   "version": "3.6.9"
  }
 },
 "nbformat": 4,
 "nbformat_minor": 4
}
