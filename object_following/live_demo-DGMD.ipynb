{
 "cells": [
  {
   "cell_type": "markdown",
   "metadata": {},
   "source": [
    "# Object Following - Live Demo"
   ]
  },
  {
   "cell_type": "markdown",
   "metadata": {},
   "source": [
    "### Control robot to follow central object"
   ]
  },
  {
   "cell_type": "code",
   "execution_count": 1,
   "metadata": {},
   "outputs": [
    {
     "name": "stdout",
     "output_type": "stream",
     "text": [
      "ok\n"
     ]
    }
   ],
   "source": [
    "from jetbot import ObjectDetector\n",
    "import tensorrt\n",
    "model = ObjectDetector('ssd_mobilenet_v2_coco.engine')\n",
    "\n",
    "import torch\n",
    "import torchvision\n",
    "import torch.nn.functional as F\n",
    "import cv2\n",
    "import numpy as np\n",
    "\n",
    "collision_model = torchvision.models.alexnet(pretrained=False)\n",
    "collision_model.classifier[6] = torch.nn.Linear(collision_model.classifier[6].in_features, 2)\n",
    "collision_model.load_state_dict(torch.load('../collision_avoidance/best_model.pth'))\n",
    "device = torch.device('cuda')\n",
    "collision_model = collision_model.to(device)\n",
    "\n",
    "mean = 255.0 * np.array([0.485, 0.456, 0.406])\n",
    "stdev = 255.0 * np.array([0.229, 0.224, 0.225])\n",
    "\n",
    "normalize = torchvision.transforms.Normalize(mean, stdev)\n",
    "\n",
    "def preprocess(camera_value):\n",
    "    global device, normalize\n",
    "    x = camera_value\n",
    "    x = cv2.resize(x, (224, 224))\n",
    "    x = cv2.cvtColor(x, cv2.COLOR_BGR2RGB)\n",
    "    x = x.transpose((2, 0, 1))\n",
    "    x = torch.from_numpy(x).float()\n",
    "    x = normalize(x)\n",
    "    x = x.to(device)\n",
    "    x = x[None, ...]\n",
    "    return x\n",
    "\n",
    "print('ok')"
   ]
  },
  {
   "cell_type": "markdown",
   "metadata": {},
   "source": [
    "### Let's display all the control widgets"
   ]
  },
  {
   "cell_type": "code",
   "execution_count": 17,
   "metadata": {},
   "outputs": [
    {
     "data": {
      "application/vnd.jupyter.widget-view+json": {
       "model_id": "2a76974f9c374d3c8c53a6b2c96a2beb",
       "version_major": 2,
       "version_minor": 0
      },
      "text/plain": [
       "HBox(children=(Image(value=b'', format='jpeg', height='300', width='300'), VBox(children=(FloatSlider(value=1.…"
      ]
     },
     "metadata": {},
     "output_type": "display_data"
    },
    {
     "data": {
      "application/vnd.jupyter.widget-view+json": {
       "model_id": "034e2faa2dc34634b62cc88d25dd04ca",
       "version_major": 2,
       "version_minor": 0
      },
      "text/plain": [
       "VBox(children=(IntText(value=47, description='tracked label'), FloatText(value=0.0, description='left'), Float…"
      ]
     },
     "metadata": {},
     "output_type": "display_data"
    },
    {
     "name": "stdout",
     "output_type": "stream",
     "text": [
      "ok\n"
     ]
    }
   ],
   "source": [
    "from jetbot import Robot\n",
    "from jetbot import Camera\n",
    "from jetbot import bgr8_to_jpeg\n",
    "\n",
    "from IPython.display import display\n",
    "import ipywidgets.widgets as widgets\n",
    "\n",
    "import time\n",
    "\n",
    "robot = Robot()\n",
    "camera = Camera.instance(width=300, height=300, capture_width=300, capture_height=300, fps=10)\n",
    "blocked_widget = widgets.FloatSlider(min=0.0, max=1.0, value=1, description='blocked')\n",
    "image_widget = widgets.Image(format='jpeg', width=300, height=300)\n",
    "label_widget = widgets.IntText(value=47, description='tracked label')\n",
    "speed_widget = widgets.FloatSlider(value=0.25, min=0.0, max=0.5, description='speed')\n",
    "turn_gain_widget = widgets.FloatSlider(value=0.25, min=0.0, max=0.5, description='turn gain')\n",
    "width = int(image_widget.width)\n",
    "height = int(image_widget.height)\n",
    "\n",
    "wd_label = widgets.FloatText(value=0, description='left')\n",
    "ht_label = widgets.FloatText(value=0, description='right')\n",
    "occur_label = widgets.FloatText(value=0, description='occurence')\n",
    "\n",
    "button_layout = widgets.Layout(width='128px', height='64px')\n",
    "stop_button = widgets.Button(description='STOP', button_style='danger', layout=button_layout)\n",
    "stop_button.on_click(lambda x: stop())\n",
    "\n",
    "display(widgets.HBox([image_widget, widgets.VBox([blocked_widget, speed_widget, turn_gain_widget,stop_button])]))\n",
    "display(widgets.VBox([label_widget,wd_label,ht_label,occur_label]))\n",
    "\n",
    "run()"
   ]
  },
  {
   "cell_type": "markdown",
   "metadata": {},
   "source": [
    "### Connect the network execution function to the camera updates"
   ]
  },
  {
   "cell_type": "code",
   "execution_count": 15,
   "metadata": {},
   "outputs": [],
   "source": [
    "from collections import deque\n",
    "import numpy as np\n",
    "occur_dq = deque([0]*10)\n",
    "\n",
    "fwdtq = 0.4\n",
    "turntq = 0.35\n",
    "\n",
    "def stop():\n",
    "    camera.unobserve_all()\n",
    "    time.sleep(1.0)\n",
    "    robot.stop()\n",
    "    print('stopped')\n",
    "\n",
    "def detection_center(detection):\n",
    "    \"\"\"Computes the center x, y coordinates of the object\"\"\"\n",
    "    bbox = detection['bbox']\n",
    "    center_x = (bbox[0] + bbox[2]) / 2.0 - 0.5\n",
    "    center_y = (bbox[1] + bbox[3]) / 2.0 - 0.5\n",
    "    return (center_x, center_y)\n",
    "\n",
    "def norm(vec):\n",
    "    \"\"\"Computes the length of the 2D vector\"\"\"\n",
    "    return np.sqrt(vec[0]**2 + vec[1]**2)\n",
    "\n",
    "def closest_detection(detections):\n",
    "    \"\"\"Finds the detection closest to the image center\"\"\"\n",
    "    closest_detection = None\n",
    "    for det in detections:\n",
    "        center = detection_center(det)\n",
    "        if closest_detection is None:\n",
    "            closest_detection = det\n",
    "        elif norm(detection_center(det)) < norm(detection_center(closest_detection)):\n",
    "            closest_detection = det\n",
    "    return closest_detection\n",
    "\n",
    "tt = time.time()\n",
    "def execute(change):\n",
    "    global tt\n",
    "    if time.time() - tt < 0.1: return #max update per x seconds\n",
    "    else: tt = time.time()\n",
    "\n",
    "    occur_label.value = sum(occur_dq) #how many times in the last xx sec did we see it?\n",
    "    image = change['new']\n",
    "\n",
    "    # execute collision model to determine if blocked\n",
    "    collision_output = collision_model(preprocess(image)).detach().cpu()\n",
    "    prob_blocked = float(F.softmax(collision_output.flatten(), dim=0)[0])\n",
    "    blocked_widget.value = prob_blocked\n",
    "\n",
    "    # stop if blocked\n",
    "    if prob_blocked > 0.5:\n",
    "        label_widget.description = \"blocked\"\n",
    "        robot.stop()\n",
    "        image_widget.value = bgr8_to_jpeg(image)\n",
    "        return\n",
    "\n",
    "    # compute all detected objects\n",
    "    detections = model(image)\n",
    "\n",
    "    # draw all detections on image\n",
    "    for det in detections[0]:\n",
    "        bbox = det['bbox']\n",
    "        cv2.rectangle(image, (int(width * bbox[0]), int(height * bbox[1])), (int(width * bbox[2]), int(height * bbox[3])), (255, 0, 0), 2)\n",
    "\n",
    "    # select detections that match selected class label\n",
    "    matching_detections = [d for d in detections[0] if d['label'] == int(label_widget.value)]\n",
    "    # get detection closest to center of field of view and draw it\n",
    "    det = closest_detection(matching_detections)\n",
    "\n",
    "    #go forward if no target detected\n",
    "    if det is None:\n",
    "        label_widget.description = \"not found\"\n",
    "        occur_dq.append(0)\n",
    "        occur_dq.popleft()\n",
    "\n",
    "        if sum(occur_dq) > 0: #just saw it, maybe it's still there\n",
    "            # update image widget\n",
    "            image_widget.value = bgr8_to_jpeg(image)\n",
    "            return\n",
    "\n",
    "        wd_label.value = 0\n",
    "        ht_label.value = 0\n",
    "        robot.forward(fwdtq)\n",
    "        time.sleep(0.001)\n",
    "        robot.left_motor.value = speed_widget.value * 1.05\n",
    "        robot.right_motor.value = speed_widget.value\n",
    "        # update image widget\n",
    "        image_widget.value = bgr8_to_jpeg(image)\n",
    "        return\n",
    "\n",
    "    #target is detected\n",
    "    else: \n",
    "        bbox = det['bbox']\n",
    "        wd_label.value = round(bbox[0],2) #round(abs(bbox[0] - bbox[2]),2)\n",
    "        ht_label.value = round(bbox[2],2) #round(abs(bbox[1] - bbox[3]),2)\n",
    "        cv2.rectangle(image, (int(width * bbox[0]), int(height * bbox[1])), (int(width * bbox[2]), int(height * bbox[3])), (0, 255, 0), 5)\n",
    "\n",
    "        #center about target if not centered\n",
    "        if bbox[0] > 0.5 or bbox[2] < 0.5:\n",
    "            label_widget.description = \"centering\"\n",
    "            # move robot forward and steer proportional target's x-distance from center\n",
    "            center = detection_center(det)              \n",
    "            sign = np.sign(center[0])\n",
    "            robot.left_motor.value = turntq * sign\n",
    "            robot.right_motor.value = -turntq * sign\n",
    "            time.sleep(0.001)\n",
    "            robot.left_motor.value = turn_gain_widget.value * sign\n",
    "            robot.right_motor.value = -turn_gain_widget.value * sign\n",
    "\n",
    "            # update image widget\n",
    "            image_widget.value = bgr8_to_jpeg(image)\n",
    "            return\n",
    "        #move forward if too small\n",
    "        elif bbox[2] - bbox[0] < 0.1:\n",
    "            label_widget.description = \"closing in\"\n",
    "            robot.forward(fwdtq)\n",
    "            time.sleep(0.001)\n",
    "            robot.left_motor.value = speed_widget.value * 1.05\n",
    "            robot.right_motor.value = speed_widget.value\n",
    "        #stop if closed and centered\n",
    "        else:\n",
    "            label_widget.description = \"found\"\n",
    "            occur_dq.append(1)\n",
    "            occur_dq.popleft()\n",
    "            robot.stop()\n",
    "            # update image widget\n",
    "            image_widget.value = bgr8_to_jpeg(image)\n",
    "            return\n",
    "\n",
    "def run():\n",
    "    execute({'new': camera.value})\n",
    "    camera.unobserve_all()\n",
    "    camera.observe(execute, names='value')"
   ]
  },
  {
   "cell_type": "markdown",
   "metadata": {},
   "source": [
    "### Stop"
   ]
  },
  {
   "cell_type": "code",
   "execution_count": 10,
   "metadata": {},
   "outputs": [
    {
     "name": "stdout",
     "output_type": "stream",
     "text": [
      "stopped\n"
     ]
    }
   ],
   "source": [
    "stop()"
   ]
  },
  {
   "cell_type": "code",
   "execution_count": null,
   "metadata": {},
   "outputs": [],
   "source": []
  }
 ],
 "metadata": {
  "kernelspec": {
   "display_name": "Python 3",
   "language": "python",
   "name": "python3"
  },
  "language_info": {
   "codemirror_mode": {
    "name": "ipython",
    "version": 3
   },
   "file_extension": ".py",
   "mimetype": "text/x-python",
   "name": "python",
   "nbconvert_exporter": "python",
   "pygments_lexer": "ipython3",
   "version": "3.6.9"
  }
 },
 "nbformat": 4,
 "nbformat_minor": 4
}
