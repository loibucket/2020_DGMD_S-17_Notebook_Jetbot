{
 "cells": [
  {
   "cell_type": "code",
   "execution_count": 1,
   "metadata": {},
   "outputs": [],
   "source": [
    "#import torch\n",
    "#import tensorflow\n",
    "#import cv2\n",
    "#camera#\n",
    "#import smbus\n",
    "#bus = smbus.SMBus(1)"
   ]
  },
  {
   "cell_type": "code",
   "execution_count": 3,
   "metadata": {},
   "outputs": [
    {
     "name": "stdout",
     "output_type": "stream",
     "text": [
      "Listing... Done\n",
      "\u001b[32mjavascript-common\u001b[0m/bionic,now 11 all [installed,automatic]\n",
      "\u001b[32mjetson-gpio-common\u001b[0m/stable,now 2.0.4 arm64 [installed]\n"
     ]
    }
   ],
   "source": [
    "!apt list --installed j*"
   ]
  },
  {
   "cell_type": "code",
   "execution_count": 7,
   "metadata": {},
   "outputs": [],
   "source": [
    "#!pip list"
   ]
  },
  {
   "cell_type": "code",
   "execution_count": 8,
   "metadata": {},
   "outputs": [
    {
     "name": "stdout",
     "output_type": "stream",
     "text": [
      "\u001b[33mWARNING: The directory '/home/jetbot/.cache/pip' or its parent directory is not owned or is not writable by the current user. The cache has been disabled. Check the permissions and owner of that directory. If executing pip with sudo, you may want sudo's -H flag.\u001b[0m\n",
      "jetson-stats (3.0.1)         - Interactive system-monitor and process viewer\n",
      "                               for all NVIDIA Jetson [Xavier NX, Nano, AGX\n",
      "                               Xavier, TX1, TX2]\n",
      "  INSTALLED: 3.0.1 (latest)\n",
      "mxnet-jetson (1.2.1)         - MXNet Python Package\n",
      "jetson-stats-sender (1.0.2)  - Communication interface to talk to the\n",
      "                               projet_jetson web-server\n",
      "nanocamera (0.1.5)           - A Python camera interface for the Jetson Nano\n",
      "Jetson.GPIO (2.0.9)          - A module to control Jetson GPIO channels\n",
      "  INSTALLED: 2.0.4\n",
      "  LATEST:    2.0.9\n",
      "RpiSerial (0.0.2)            - All Serial Device Interface with Raspberry Pi,\n",
      "                               Jetson nano, etc\n",
      "avtcam (0.2.0)               - An easy to use Allied Vision camera interface\n",
      "                               for NVIDIA Jetson and other third-party\n",
      "                               embedded platforms\n",
      "pycuda-arm-linux (2015.1.3)  - pyCUDA for ARM (armv7l) Linux GNUroot Debian on\n",
      "                               NVIDIA Shield Tablet [Tegra K1] - EXPERIMENTAL:\n",
      "                               much of cuda driver API works but no cuda\n",
      "                               runtime API. REQUIRES: Linux for Tegra\n",
      "                               cuda-6.5-toolkit [.deb package] and\n",
      "                               libcuda.so.1.1 in /usr/lib (from Jetson TK1\n",
      "                               Driver Package) @\n",
      "                               https://developer.nvidia.com/linux-tegra-rel-21\n"
     ]
    }
   ],
   "source": [
    "!pip search jetson"
   ]
  },
  {
   "cell_type": "code",
   "execution_count": 5,
   "metadata": {},
   "outputs": [],
   "source": [
    "#!brew list"
   ]
  },
  {
   "cell_type": "code",
   "execution_count": null,
   "metadata": {},
   "outputs": [],
   "source": []
  }
 ],
 "metadata": {
  "kernelspec": {
   "display_name": "Python 3",
   "language": "python",
   "name": "python3"
  },
  "language_info": {
   "codemirror_mode": {
    "name": "ipython",
    "version": 3
   },
   "file_extension": ".py",
   "mimetype": "text/x-python",
   "name": "python",
   "nbconvert_exporter": "python",
   "pygments_lexer": "ipython3",
   "version": "3.6.9"
  }
 },
 "nbformat": 4,
 "nbformat_minor": 4
}
