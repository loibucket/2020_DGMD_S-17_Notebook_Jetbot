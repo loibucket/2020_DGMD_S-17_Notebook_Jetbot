{
 "cells": [
  {
   "cell_type": "code",
   "execution_count": 1,
   "metadata": {},
   "outputs": [
    {
     "name": "stdout",
     "output_type": "stream",
     "text": [
      "On branch master\n",
      "Your branch is up to date with 'origin/master'.\n",
      "\n",
      "Changes not staged for commit:\n",
      "  (use \"git add/rm <file>...\" to update what will be committed)\n",
      "  (use \"git checkout -- <file>...\" to discard changes in working directory)\n",
      "\n",
      "\t\u001b[31mdeleted:    basic_motion/basic_motion_dgmd_tut1.ipynb\u001b[m\n",
      "\t\u001b[31mdeleted:    collision_avoidance/data_collection_DGMD.ipynb\u001b[m\n",
      "\t\u001b[31mmodified:   collision_avoidance/live_demo-DGMD.ipynb\u001b[m\n",
      "\t\u001b[31mmodified:   git_push.ipynb\u001b[m\n",
      "\t\u001b[31mmodified:   object_following/live_demo-DGMD.ipynb\u001b[m\n",
      "\t\u001b[31mdeleted:    teleoperation/teleoperation_DGMD.ipynb\u001b[m\n",
      "\n",
      "Untracked files:\n",
      "  (use \"git add <file>...\" to include in what will be committed)\n",
      "\n",
      "\t\u001b[31mbasic_motion/basic_motion-DGMD.ipynb\u001b[m\n",
      "\t\u001b[31mcollision_avoidance/data_collection-DGMD.ipynb\u001b[m\n",
      "\t\u001b[31mteleoperation/teleoperation-DGMD.ipynb\u001b[m\n",
      "\n",
      "no changes added to commit (use \"git add\" and/or \"git commit -a\")\n"
     ]
    }
   ],
   "source": [
    "!git status"
   ]
  },
  {
   "cell_type": "code",
   "execution_count": 2,
   "metadata": {},
   "outputs": [],
   "source": [
    "!git add ."
   ]
  },
  {
   "cell_type": "code",
   "execution_count": 3,
   "metadata": {},
   "outputs": [
    {
     "name": "stdout",
     "output_type": "stream",
     "text": [
      "[master 6ec2441] Cleanup\n",
      " 6 files changed, 256 insertions(+), 272 deletions(-)\n",
      " rename basic_motion/{basic_motion_dgmd_tut1.ipynb => basic_motion-DGMD.ipynb} (98%)\n",
      " rename collision_avoidance/{data_collection_DGMD.ipynb => data_collection-DGMD.ipynb} (59%)\n",
      " rewrite git_push.ipynb (60%)\n",
      " rename teleoperation/{teleoperation_DGMD.ipynb => teleoperation-DGMD.ipynb} (80%)\n"
     ]
    }
   ],
   "source": [
    "!git commit -m \"Cleanup\""
   ]
  },
  {
   "cell_type": "code",
   "execution_count": 4,
   "metadata": {},
   "outputs": [
    {
     "name": "stdout",
     "output_type": "stream",
     "text": [
      "Counting objects: 12, done.\n",
      "Delta compression using up to 4 threads.\n",
      "Compressing objects: 100% (12/12), done.\n",
      "Writing objects: 100% (12/12), 11.77 KiB | 1.96 MiB/s, done.\n",
      "Total 12 (delta 5), reused 0 (delta 0)\n",
      "remote: Resolving deltas: 100% (5/5), completed with 3 local objects.\u001b[K\n",
      "To https://github.com/loibucket/2020_DGMD_S-17_Notebook_Jetbot\n",
      "   9b59b05..6ec2441  master -> master\n"
     ]
    }
   ],
   "source": [
    "!git push origin master"
   ]
  },
  {
   "cell_type": "code",
   "execution_count": null,
   "metadata": {},
   "outputs": [],
   "source": []
  }
 ],
 "metadata": {
  "kernelspec": {
   "display_name": "Python 3",
   "language": "python",
   "name": "python3"
  },
  "language_info": {
   "codemirror_mode": {
    "name": "ipython",
    "version": 3
   },
   "file_extension": ".py",
   "mimetype": "text/x-python",
   "name": "python",
   "nbconvert_exporter": "python",
   "pygments_lexer": "ipython3",
   "version": "3.6.9"
  }
 },
 "nbformat": 4,
 "nbformat_minor": 4
}
